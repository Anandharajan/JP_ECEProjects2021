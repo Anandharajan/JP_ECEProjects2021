{
  "nbformat": 4,
  "nbformat_minor": 0,
  "metadata": {
    "colab": {
      "name": "malware-classification.ipynb",
      "provenance": []
    },
    "kernelspec": {
      "display_name": "Python 3",
      "name": "python3"
    }
  },
  "cells": [
    {
      "cell_type": "markdown",
      "metadata": {
        "id": "JwbAzmrpOAxQ"
      },
      "source": [
        "## A Machine Learning approach for Malware Detection"
      ]
    },
    {
      "cell_type": "markdown",
      "metadata": {
        "id": "KB9j8nyVOAxS"
      },
      "source": [
        "Importing all the required libraries"
      ]
    },
    {
      "cell_type": "code",
      "metadata": {
        "colab": {
          "base_uri": "https://localhost:8080/"
        },
        "id": "jlXultO1h1_Z",
        "outputId": "ee25470a-5159-4094-8bc0-90f280f234f9"
      },
      "source": [
        "from google.colab import drive\r\n",
        "drive.mount('/content/gdrive')"
      ],
      "execution_count": null,
      "outputs": [
        {
          "output_type": "stream",
          "text": [
            "Drive already mounted at /content/gdrive; to attempt to forcibly remount, call drive.mount(\"/content/gdrive\", force_remount=True).\n"
          ],
          "name": "stdout"
        }
      ]
    },
    {
      "cell_type": "code",
      "metadata": {
        "id": "FhEkqBryPV8e"
      },
      "source": [
        "import os\r\n",
        "os.environ['KAGGLE_CONFIG_DIR'] = \"/content/gdrive/My Drive/kaggle\""
      ],
      "execution_count": null,
      "outputs": []
    },
    {
      "cell_type": "code",
      "metadata": {
        "colab": {
          "base_uri": "https://localhost:8080/",
          "height": 35
        },
        "id": "8RmHCopTPbfn",
        "outputId": "3804c9c7-8419-42d7-e00e-280120e33f79"
      },
      "source": [
        "pwd"
      ],
      "execution_count": null,
      "outputs": [
        {
          "output_type": "execute_result",
          "data": {
            "application/vnd.google.colaboratory.intrinsic+json": {
              "type": "string"
            },
            "text/plain": [
              "'/content'"
            ]
          },
          "metadata": {
            "tags": []
          },
          "execution_count": 5
        }
      ]
    },
    {
      "cell_type": "code",
      "metadata": {
        "colab": {
          "base_uri": "https://localhost:8080/"
        },
        "id": "avcdY-8TPhWG",
        "outputId": "91cf8e7c-28eb-4599-8e78-bc2fc1b0f982"
      },
      "source": [
        "%cd /content/gdrive/My Drive/kaggle"
      ],
      "execution_count": null,
      "outputs": [
        {
          "output_type": "stream",
          "text": [
            "/content/gdrive/My Drive/kaggle\n"
          ],
          "name": "stdout"
        }
      ]
    },
    {
      "cell_type": "code",
      "metadata": {
        "colab": {
          "base_uri": "https://localhost:8080/"
        },
        "id": "iQaD65K3PkoK",
        "outputId": "b4213b08-3222-4b45-e8da-75cbd91c2a37"
      },
      "source": [
        "ls"
      ],
      "execution_count": null,
      "outputs": [
        {
          "output_type": "stream",
          "text": [
            "brasilian-houses-to-rent.zip  houses_to_rent_v2.csv  kaggle.json\n",
            "database.sqlite               Iris.csv               LUS_covid.csv\n",
            "houses_to_rent.csv            Iris.gsheet            Maldata.csv\n"
          ],
          "name": "stdout"
        }
      ]
    },
    {
      "cell_type": "code",
      "metadata": {
        "id": "yHHIeaNiOAxV"
      },
      "source": [
        "import pandas\r\n",
        "dataset = pandas.read_csv('/content/gdrive/My Drive/kaggle/Maldata.csv',sep='|', low_memory=False)"
      ],
      "execution_count": null,
      "outputs": []
    },
    {
      "cell_type": "code",
      "metadata": {
        "colab": {
          "base_uri": "https://localhost:8080/",
          "height": 224
        },
        "id": "d-78bGZnZP-9",
        "outputId": "a6776d13-44d7-41e5-bf17-48a3c962aea3"
      },
      "source": [
        "dataset.head()"
      ],
      "execution_count": null,
      "outputs": [
        {
          "output_type": "execute_result",
          "data": {
            "text/html": [
              "<div>\n",
              "<style scoped>\n",
              "    .dataframe tbody tr th:only-of-type {\n",
              "        vertical-align: middle;\n",
              "    }\n",
              "\n",
              "    .dataframe tbody tr th {\n",
              "        vertical-align: top;\n",
              "    }\n",
              "\n",
              "    .dataframe thead th {\n",
              "        text-align: right;\n",
              "    }\n",
              "</style>\n",
              "<table border=\"1\" class=\"dataframe\">\n",
              "  <thead>\n",
              "    <tr style=\"text-align: right;\">\n",
              "      <th></th>\n",
              "      <th>Name</th>\n",
              "      <th>md5</th>\n",
              "      <th>Machine</th>\n",
              "      <th>SizeOfOptionalHeader</th>\n",
              "      <th>Characteristics</th>\n",
              "      <th>MajorLinkerVersion</th>\n",
              "      <th>MinorLinkerVersion</th>\n",
              "      <th>SizeOfCode</th>\n",
              "      <th>SizeOfInitializedData</th>\n",
              "      <th>SizeOfUninitializedData</th>\n",
              "      <th>AddressOfEntryPoint</th>\n",
              "      <th>BaseOfCode</th>\n",
              "      <th>BaseOfData</th>\n",
              "      <th>ImageBase</th>\n",
              "      <th>SectionAlignment</th>\n",
              "      <th>FileAlignment</th>\n",
              "      <th>MajorOperatingSystemVersion</th>\n",
              "      <th>MinorOperatingSystemVersion</th>\n",
              "      <th>MajorImageVersion</th>\n",
              "      <th>MinorImageVersion</th>\n",
              "      <th>MajorSubsystemVersion</th>\n",
              "      <th>MinorSubsystemVersion</th>\n",
              "      <th>SizeOfImage</th>\n",
              "      <th>SizeOfHeaders</th>\n",
              "      <th>CheckSum</th>\n",
              "      <th>Subsystem</th>\n",
              "      <th>DllCharacteristics</th>\n",
              "      <th>SizeOfStackReserve</th>\n",
              "      <th>SizeOfStackCommit</th>\n",
              "      <th>SizeOfHeapReserve</th>\n",
              "      <th>SizeOfHeapCommit</th>\n",
              "      <th>LoaderFlags</th>\n",
              "      <th>NumberOfRvaAndSizes</th>\n",
              "      <th>SectionsNb</th>\n",
              "      <th>SectionsMeanEntropy</th>\n",
              "      <th>SectionsMinEntropy</th>\n",
              "      <th>SectionsMaxEntropy</th>\n",
              "      <th>SectionsMeanRawsize</th>\n",
              "      <th>SectionsMinRawsize</th>\n",
              "      <th>SectionMaxRawsize</th>\n",
              "      <th>SectionsMeanVirtualsize</th>\n",
              "      <th>SectionsMinVirtualsize</th>\n",
              "      <th>SectionMaxVirtualsize</th>\n",
              "      <th>ImportsNbDLL</th>\n",
              "      <th>ImportsNb</th>\n",
              "      <th>ImportsNbOrdinal</th>\n",
              "      <th>ExportNb</th>\n",
              "      <th>ResourcesNb</th>\n",
              "      <th>ResourcesMeanEntropy</th>\n",
              "      <th>ResourcesMinEntropy</th>\n",
              "      <th>ResourcesMaxEntropy</th>\n",
              "      <th>ResourcesMeanSize</th>\n",
              "      <th>ResourcesMinSize</th>\n",
              "      <th>ResourcesMaxSize</th>\n",
              "      <th>LoadConfigurationSize</th>\n",
              "      <th>VersionInformationSize</th>\n",
              "      <th>legitimate</th>\n",
              "    </tr>\n",
              "  </thead>\n",
              "  <tbody>\n",
              "    <tr>\n",
              "      <th>0</th>\n",
              "      <td>memtest.exe</td>\n",
              "      <td>631ea355665f28d4707448e442fbf5b8</td>\n",
              "      <td>332</td>\n",
              "      <td>224</td>\n",
              "      <td>258</td>\n",
              "      <td>9</td>\n",
              "      <td>0</td>\n",
              "      <td>361984</td>\n",
              "      <td>115712</td>\n",
              "      <td>0</td>\n",
              "      <td>6135</td>\n",
              "      <td>4096</td>\n",
              "      <td>372736</td>\n",
              "      <td>4194304</td>\n",
              "      <td>4096</td>\n",
              "      <td>512</td>\n",
              "      <td>0</td>\n",
              "      <td>0</td>\n",
              "      <td>0</td>\n",
              "      <td>0</td>\n",
              "      <td>1</td>\n",
              "      <td>0</td>\n",
              "      <td>1036288</td>\n",
              "      <td>1024</td>\n",
              "      <td>485887</td>\n",
              "      <td>16</td>\n",
              "      <td>1024</td>\n",
              "      <td>1048576</td>\n",
              "      <td>4096</td>\n",
              "      <td>1048576</td>\n",
              "      <td>4096</td>\n",
              "      <td>0</td>\n",
              "      <td>16</td>\n",
              "      <td>8</td>\n",
              "      <td>5.766807</td>\n",
              "      <td>3.607430</td>\n",
              "      <td>7.221051</td>\n",
              "      <td>59712.0</td>\n",
              "      <td>1024</td>\n",
              "      <td>325120</td>\n",
              "      <td>126875.875</td>\n",
              "      <td>896</td>\n",
              "      <td>551848</td>\n",
              "      <td>0</td>\n",
              "      <td>0</td>\n",
              "      <td>0</td>\n",
              "      <td>0</td>\n",
              "      <td>4</td>\n",
              "      <td>3.262823</td>\n",
              "      <td>2.568844</td>\n",
              "      <td>3.537939</td>\n",
              "      <td>8797.000000</td>\n",
              "      <td>216</td>\n",
              "      <td>18032</td>\n",
              "      <td>0</td>\n",
              "      <td>16</td>\n",
              "      <td>1</td>\n",
              "    </tr>\n",
              "    <tr>\n",
              "      <th>1</th>\n",
              "      <td>ose.exe</td>\n",
              "      <td>9d10f99a6712e28f8acd5641e3a7ea6b</td>\n",
              "      <td>332</td>\n",
              "      <td>224</td>\n",
              "      <td>3330</td>\n",
              "      <td>9</td>\n",
              "      <td>0</td>\n",
              "      <td>130560</td>\n",
              "      <td>19968</td>\n",
              "      <td>0</td>\n",
              "      <td>81778</td>\n",
              "      <td>4096</td>\n",
              "      <td>143360</td>\n",
              "      <td>771751936</td>\n",
              "      <td>4096</td>\n",
              "      <td>512</td>\n",
              "      <td>5</td>\n",
              "      <td>1</td>\n",
              "      <td>0</td>\n",
              "      <td>0</td>\n",
              "      <td>5</td>\n",
              "      <td>1</td>\n",
              "      <td>159744</td>\n",
              "      <td>1024</td>\n",
              "      <td>188943</td>\n",
              "      <td>2</td>\n",
              "      <td>33088</td>\n",
              "      <td>1048576</td>\n",
              "      <td>4096</td>\n",
              "      <td>1048576</td>\n",
              "      <td>4096</td>\n",
              "      <td>0</td>\n",
              "      <td>16</td>\n",
              "      <td>4</td>\n",
              "      <td>4.839688</td>\n",
              "      <td>2.373525</td>\n",
              "      <td>6.566909</td>\n",
              "      <td>35584.0</td>\n",
              "      <td>2048</td>\n",
              "      <td>130560</td>\n",
              "      <td>37322.000</td>\n",
              "      <td>1840</td>\n",
              "      <td>130296</td>\n",
              "      <td>7</td>\n",
              "      <td>181</td>\n",
              "      <td>0</td>\n",
              "      <td>0</td>\n",
              "      <td>2</td>\n",
              "      <td>4.250461</td>\n",
              "      <td>3.420744</td>\n",
              "      <td>5.080177</td>\n",
              "      <td>837.000000</td>\n",
              "      <td>518</td>\n",
              "      <td>1156</td>\n",
              "      <td>72</td>\n",
              "      <td>18</td>\n",
              "      <td>1</td>\n",
              "    </tr>\n",
              "    <tr>\n",
              "      <th>2</th>\n",
              "      <td>setup.exe</td>\n",
              "      <td>4d92f518527353c0db88a70fddcfd390</td>\n",
              "      <td>332</td>\n",
              "      <td>224</td>\n",
              "      <td>3330</td>\n",
              "      <td>9</td>\n",
              "      <td>0</td>\n",
              "      <td>517120</td>\n",
              "      <td>621568</td>\n",
              "      <td>0</td>\n",
              "      <td>350896</td>\n",
              "      <td>4096</td>\n",
              "      <td>811008</td>\n",
              "      <td>771751936</td>\n",
              "      <td>4096</td>\n",
              "      <td>512</td>\n",
              "      <td>5</td>\n",
              "      <td>1</td>\n",
              "      <td>0</td>\n",
              "      <td>0</td>\n",
              "      <td>5</td>\n",
              "      <td>1</td>\n",
              "      <td>1150976</td>\n",
              "      <td>1024</td>\n",
              "      <td>1159817</td>\n",
              "      <td>2</td>\n",
              "      <td>32832</td>\n",
              "      <td>1048576</td>\n",
              "      <td>4096</td>\n",
              "      <td>1048576</td>\n",
              "      <td>4096</td>\n",
              "      <td>0</td>\n",
              "      <td>16</td>\n",
              "      <td>4</td>\n",
              "      <td>6.409558</td>\n",
              "      <td>4.885191</td>\n",
              "      <td>7.600957</td>\n",
              "      <td>273408.0</td>\n",
              "      <td>21504</td>\n",
              "      <td>517120</td>\n",
              "      <td>284498.000</td>\n",
              "      <td>21456</td>\n",
              "      <td>516760</td>\n",
              "      <td>14</td>\n",
              "      <td>235</td>\n",
              "      <td>21</td>\n",
              "      <td>1</td>\n",
              "      <td>11</td>\n",
              "      <td>4.426324</td>\n",
              "      <td>2.846449</td>\n",
              "      <td>5.271813</td>\n",
              "      <td>31102.272727</td>\n",
              "      <td>104</td>\n",
              "      <td>270376</td>\n",
              "      <td>72</td>\n",
              "      <td>18</td>\n",
              "      <td>1</td>\n",
              "    </tr>\n",
              "    <tr>\n",
              "      <th>3</th>\n",
              "      <td>DW20.EXE</td>\n",
              "      <td>a41e524f8d45f0074fd07805ff0c9b12</td>\n",
              "      <td>332</td>\n",
              "      <td>224</td>\n",
              "      <td>258</td>\n",
              "      <td>9</td>\n",
              "      <td>0</td>\n",
              "      <td>585728</td>\n",
              "      <td>369152</td>\n",
              "      <td>0</td>\n",
              "      <td>451258</td>\n",
              "      <td>4096</td>\n",
              "      <td>798720</td>\n",
              "      <td>771751936</td>\n",
              "      <td>4096</td>\n",
              "      <td>512</td>\n",
              "      <td>5</td>\n",
              "      <td>1</td>\n",
              "      <td>0</td>\n",
              "      <td>0</td>\n",
              "      <td>5</td>\n",
              "      <td>1</td>\n",
              "      <td>962560</td>\n",
              "      <td>1024</td>\n",
              "      <td>867570</td>\n",
              "      <td>2</td>\n",
              "      <td>33088</td>\n",
              "      <td>1048576</td>\n",
              "      <td>4096</td>\n",
              "      <td>1048576</td>\n",
              "      <td>4096</td>\n",
              "      <td>0</td>\n",
              "      <td>16</td>\n",
              "      <td>4</td>\n",
              "      <td>6.641731</td>\n",
              "      <td>5.642565</td>\n",
              "      <td>7.594929</td>\n",
              "      <td>207872.0</td>\n",
              "      <td>15360</td>\n",
              "      <td>585728</td>\n",
              "      <td>238502.000</td>\n",
              "      <td>15208</td>\n",
              "      <td>585488</td>\n",
              "      <td>15</td>\n",
              "      <td>360</td>\n",
              "      <td>6</td>\n",
              "      <td>1</td>\n",
              "      <td>10</td>\n",
              "      <td>4.364291</td>\n",
              "      <td>2.669314</td>\n",
              "      <td>6.400720</td>\n",
              "      <td>1457.000000</td>\n",
              "      <td>90</td>\n",
              "      <td>4264</td>\n",
              "      <td>72</td>\n",
              "      <td>18</td>\n",
              "      <td>1</td>\n",
              "    </tr>\n",
              "    <tr>\n",
              "      <th>4</th>\n",
              "      <td>dwtrig20.exe</td>\n",
              "      <td>c87e561258f2f8650cef999bf643a731</td>\n",
              "      <td>332</td>\n",
              "      <td>224</td>\n",
              "      <td>258</td>\n",
              "      <td>9</td>\n",
              "      <td>0</td>\n",
              "      <td>294912</td>\n",
              "      <td>247296</td>\n",
              "      <td>0</td>\n",
              "      <td>217381</td>\n",
              "      <td>4096</td>\n",
              "      <td>536576</td>\n",
              "      <td>771751936</td>\n",
              "      <td>4096</td>\n",
              "      <td>512</td>\n",
              "      <td>5</td>\n",
              "      <td>1</td>\n",
              "      <td>0</td>\n",
              "      <td>0</td>\n",
              "      <td>5</td>\n",
              "      <td>1</td>\n",
              "      <td>552960</td>\n",
              "      <td>1024</td>\n",
              "      <td>579287</td>\n",
              "      <td>2</td>\n",
              "      <td>33088</td>\n",
              "      <td>1048576</td>\n",
              "      <td>4096</td>\n",
              "      <td>1048576</td>\n",
              "      <td>4096</td>\n",
              "      <td>0</td>\n",
              "      <td>16</td>\n",
              "      <td>4</td>\n",
              "      <td>6.252684</td>\n",
              "      <td>4.182282</td>\n",
              "      <td>7.608305</td>\n",
              "      <td>128128.0</td>\n",
              "      <td>2560</td>\n",
              "      <td>294912</td>\n",
              "      <td>135350.000</td>\n",
              "      <td>2320</td>\n",
              "      <td>294816</td>\n",
              "      <td>10</td>\n",
              "      <td>194</td>\n",
              "      <td>4</td>\n",
              "      <td>1</td>\n",
              "      <td>2</td>\n",
              "      <td>4.306100</td>\n",
              "      <td>3.421598</td>\n",
              "      <td>5.190603</td>\n",
              "      <td>1074.500000</td>\n",
              "      <td>849</td>\n",
              "      <td>1300</td>\n",
              "      <td>72</td>\n",
              "      <td>18</td>\n",
              "      <td>1</td>\n",
              "    </tr>\n",
              "  </tbody>\n",
              "</table>\n",
              "</div>"
            ],
            "text/plain": [
              "           Name  ... legitimate\n",
              "0   memtest.exe  ...          1\n",
              "1       ose.exe  ...          1\n",
              "2     setup.exe  ...          1\n",
              "3      DW20.EXE  ...          1\n",
              "4  dwtrig20.exe  ...          1\n",
              "\n",
              "[5 rows x 57 columns]"
            ]
          },
          "metadata": {
            "tags": []
          },
          "execution_count": 9
        }
      ]
    },
    {
      "cell_type": "code",
      "metadata": {
        "id": "-dWInYfAZNAG"
      },
      "source": [
        ""
      ],
      "execution_count": null,
      "outputs": []
    },
    {
      "cell_type": "code",
      "metadata": {
        "colab": {
          "base_uri": "https://localhost:8080/",
          "height": 317
        },
        "id": "Vl32cLTKOAxW",
        "outputId": "6f25cc59-576b-4c05-879f-b4a878efb9fe"
      },
      "source": [
        "dataset.describe()"
      ],
      "execution_count": null,
      "outputs": [
        {
          "output_type": "execute_result",
          "data": {
            "text/html": [
              "<div>\n",
              "<style scoped>\n",
              "    .dataframe tbody tr th:only-of-type {\n",
              "        vertical-align: middle;\n",
              "    }\n",
              "\n",
              "    .dataframe tbody tr th {\n",
              "        vertical-align: top;\n",
              "    }\n",
              "\n",
              "    .dataframe thead th {\n",
              "        text-align: right;\n",
              "    }\n",
              "</style>\n",
              "<table border=\"1\" class=\"dataframe\">\n",
              "  <thead>\n",
              "    <tr style=\"text-align: right;\">\n",
              "      <th></th>\n",
              "      <th>Machine</th>\n",
              "      <th>SizeOfOptionalHeader</th>\n",
              "      <th>Characteristics</th>\n",
              "      <th>MajorLinkerVersion</th>\n",
              "      <th>MinorLinkerVersion</th>\n",
              "      <th>SizeOfCode</th>\n",
              "      <th>SizeOfInitializedData</th>\n",
              "      <th>SizeOfUninitializedData</th>\n",
              "      <th>AddressOfEntryPoint</th>\n",
              "      <th>BaseOfCode</th>\n",
              "      <th>BaseOfData</th>\n",
              "      <th>ImageBase</th>\n",
              "      <th>SectionAlignment</th>\n",
              "      <th>FileAlignment</th>\n",
              "      <th>MajorOperatingSystemVersion</th>\n",
              "      <th>MinorOperatingSystemVersion</th>\n",
              "      <th>MajorImageVersion</th>\n",
              "      <th>MinorImageVersion</th>\n",
              "      <th>MajorSubsystemVersion</th>\n",
              "      <th>MinorSubsystemVersion</th>\n",
              "      <th>SizeOfImage</th>\n",
              "      <th>SizeOfHeaders</th>\n",
              "      <th>CheckSum</th>\n",
              "      <th>Subsystem</th>\n",
              "      <th>DllCharacteristics</th>\n",
              "      <th>SizeOfStackReserve</th>\n",
              "      <th>SizeOfStackCommit</th>\n",
              "      <th>SizeOfHeapReserve</th>\n",
              "      <th>SizeOfHeapCommit</th>\n",
              "      <th>LoaderFlags</th>\n",
              "      <th>NumberOfRvaAndSizes</th>\n",
              "      <th>SectionsNb</th>\n",
              "      <th>SectionsMeanEntropy</th>\n",
              "      <th>SectionsMinEntropy</th>\n",
              "      <th>SectionsMaxEntropy</th>\n",
              "      <th>SectionsMeanRawsize</th>\n",
              "      <th>SectionsMinRawsize</th>\n",
              "      <th>SectionMaxRawsize</th>\n",
              "      <th>SectionsMeanVirtualsize</th>\n",
              "      <th>SectionsMinVirtualsize</th>\n",
              "      <th>SectionMaxVirtualsize</th>\n",
              "      <th>ImportsNbDLL</th>\n",
              "      <th>ImportsNb</th>\n",
              "      <th>ImportsNbOrdinal</th>\n",
              "      <th>ExportNb</th>\n",
              "      <th>ResourcesNb</th>\n",
              "      <th>ResourcesMeanEntropy</th>\n",
              "      <th>ResourcesMinEntropy</th>\n",
              "      <th>ResourcesMaxEntropy</th>\n",
              "      <th>ResourcesMeanSize</th>\n",
              "      <th>ResourcesMinSize</th>\n",
              "      <th>ResourcesMaxSize</th>\n",
              "      <th>LoadConfigurationSize</th>\n",
              "      <th>VersionInformationSize</th>\n",
              "      <th>legitimate</th>\n",
              "    </tr>\n",
              "  </thead>\n",
              "  <tbody>\n",
              "    <tr>\n",
              "      <th>count</th>\n",
              "      <td>138047.000000</td>\n",
              "      <td>138047.000000</td>\n",
              "      <td>138047.000000</td>\n",
              "      <td>138047.000000</td>\n",
              "      <td>138047.000000</td>\n",
              "      <td>1.380470e+05</td>\n",
              "      <td>1.380470e+05</td>\n",
              "      <td>1.380470e+05</td>\n",
              "      <td>1.380470e+05</td>\n",
              "      <td>1.380470e+05</td>\n",
              "      <td>1.380470e+05</td>\n",
              "      <td>1.380470e+05</td>\n",
              "      <td>1.380470e+05</td>\n",
              "      <td>138047.000000</td>\n",
              "      <td>138047.000000</td>\n",
              "      <td>138047.000000</td>\n",
              "      <td>138047.000000</td>\n",
              "      <td>138047.000000</td>\n",
              "      <td>138047.000000</td>\n",
              "      <td>138047.000000</td>\n",
              "      <td>1.380470e+05</td>\n",
              "      <td>138047.000000</td>\n",
              "      <td>1.380470e+05</td>\n",
              "      <td>138047.000000</td>\n",
              "      <td>138047.000000</td>\n",
              "      <td>1.380470e+05</td>\n",
              "      <td>1.380470e+05</td>\n",
              "      <td>1.380470e+05</td>\n",
              "      <td>1.380470e+05</td>\n",
              "      <td>1.380470e+05</td>\n",
              "      <td>1.380470e+05</td>\n",
              "      <td>138047.000000</td>\n",
              "      <td>138047.000000</td>\n",
              "      <td>138047.000000</td>\n",
              "      <td>138047.000000</td>\n",
              "      <td>1.380470e+05</td>\n",
              "      <td>1.380470e+05</td>\n",
              "      <td>1.380470e+05</td>\n",
              "      <td>1.380470e+05</td>\n",
              "      <td>1.380470e+05</td>\n",
              "      <td>1.380470e+05</td>\n",
              "      <td>138047.000000</td>\n",
              "      <td>138047.000000</td>\n",
              "      <td>138047.000000</td>\n",
              "      <td>138047.000000</td>\n",
              "      <td>138047.000000</td>\n",
              "      <td>138047.000000</td>\n",
              "      <td>138047.000000</td>\n",
              "      <td>138047.000000</td>\n",
              "      <td>1.380470e+05</td>\n",
              "      <td>1.380470e+05</td>\n",
              "      <td>1.380470e+05</td>\n",
              "      <td>1.380470e+05</td>\n",
              "      <td>138047.000000</td>\n",
              "      <td>138047.000000</td>\n",
              "    </tr>\n",
              "    <tr>\n",
              "      <th>mean</th>\n",
              "      <td>4259.069274</td>\n",
              "      <td>225.845632</td>\n",
              "      <td>4444.145994</td>\n",
              "      <td>8.619774</td>\n",
              "      <td>3.819286</td>\n",
              "      <td>2.425956e+05</td>\n",
              "      <td>4.504867e+05</td>\n",
              "      <td>1.009525e+05</td>\n",
              "      <td>1.719561e+05</td>\n",
              "      <td>5.779845e+04</td>\n",
              "      <td>2.213743e+05</td>\n",
              "      <td>5.350876e+14</td>\n",
              "      <td>7.323764e+03</td>\n",
              "      <td>694.386694</td>\n",
              "      <td>5.097843</td>\n",
              "      <td>1.092983</td>\n",
              "      <td>68.751983</td>\n",
              "      <td>64.851283</td>\n",
              "      <td>4.861895</td>\n",
              "      <td>1.444602</td>\n",
              "      <td>8.159750e+05</td>\n",
              "      <td>1297.876520</td>\n",
              "      <td>1.797959e+08</td>\n",
              "      <td>2.157403</td>\n",
              "      <td>22312.125283</td>\n",
              "      <td>9.302477e+05</td>\n",
              "      <td>5.445543e+03</td>\n",
              "      <td>1.031958e+06</td>\n",
              "      <td>3.429882e+04</td>\n",
              "      <td>3.608506e+04</td>\n",
              "      <td>7.908762e+04</td>\n",
              "      <td>4.994509</td>\n",
              "      <td>4.637599</td>\n",
              "      <td>2.259625</td>\n",
              "      <td>6.958913</td>\n",
              "      <td>1.871513e+05</td>\n",
              "      <td>1.956488e+04</td>\n",
              "      <td>6.506805e+05</td>\n",
              "      <td>1.884237e+05</td>\n",
              "      <td>2.109837e+04</td>\n",
              "      <td>6.349808e+05</td>\n",
              "      <td>5.462937</td>\n",
              "      <td>113.225648</td>\n",
              "      <td>4.338341</td>\n",
              "      <td>23.674263</td>\n",
              "      <td>22.050700</td>\n",
              "      <td>4.000127</td>\n",
              "      <td>2.434541</td>\n",
              "      <td>5.521610</td>\n",
              "      <td>5.545093e+04</td>\n",
              "      <td>1.818082e+04</td>\n",
              "      <td>2.465903e+05</td>\n",
              "      <td>4.656750e+05</td>\n",
              "      <td>12.363115</td>\n",
              "      <td>0.299340</td>\n",
              "    </tr>\n",
              "    <tr>\n",
              "      <th>std</th>\n",
              "      <td>10880.347245</td>\n",
              "      <td>5.121399</td>\n",
              "      <td>8186.782524</td>\n",
              "      <td>4.088757</td>\n",
              "      <td>11.862675</td>\n",
              "      <td>5.754485e+06</td>\n",
              "      <td>2.101599e+07</td>\n",
              "      <td>1.635288e+07</td>\n",
              "      <td>3.430553e+06</td>\n",
              "      <td>5.527658e+06</td>\n",
              "      <td>2.188020e+06</td>\n",
              "      <td>9.929589e+16</td>\n",
              "      <td>6.257687e+05</td>\n",
              "      <td>1289.921098</td>\n",
              "      <td>99.220192</td>\n",
              "      <td>77.551077</td>\n",
              "      <td>1185.886042</td>\n",
              "      <td>1139.691397</td>\n",
              "      <td>0.647720</td>\n",
              "      <td>181.180393</td>\n",
              "      <td>6.530065e+06</td>\n",
              "      <td>5595.523021</td>\n",
              "      <td>5.976192e+08</td>\n",
              "      <td>0.452940</td>\n",
              "      <td>15440.574817</td>\n",
              "      <td>5.550081e+05</td>\n",
              "      <td>1.804724e+04</td>\n",
              "      <td>1.817744e+05</td>\n",
              "      <td>7.906877e+06</td>\n",
              "      <td>8.904748e+06</td>\n",
              "      <td>1.466901e+07</td>\n",
              "      <td>1.915329</td>\n",
              "      <td>1.099464</td>\n",
              "      <td>1.831893</td>\n",
              "      <td>1.044297</td>\n",
              "      <td>7.735218e+06</td>\n",
              "      <td>3.540868e+05</td>\n",
              "      <td>3.007226e+07</td>\n",
              "      <td>4.180153e+06</td>\n",
              "      <td>3.543141e+05</td>\n",
              "      <td>1.285463e+07</td>\n",
              "      <td>4.362811</td>\n",
              "      <td>123.134704</td>\n",
              "      <td>34.776745</td>\n",
              "      <td>252.093958</td>\n",
              "      <td>136.494244</td>\n",
              "      <td>1.112981</td>\n",
              "      <td>0.815577</td>\n",
              "      <td>1.597403</td>\n",
              "      <td>7.799163e+06</td>\n",
              "      <td>6.502369e+06</td>\n",
              "      <td>2.124860e+07</td>\n",
              "      <td>2.608987e+07</td>\n",
              "      <td>6.798878</td>\n",
              "      <td>0.457971</td>\n",
              "    </tr>\n",
              "    <tr>\n",
              "      <th>min</th>\n",
              "      <td>332.000000</td>\n",
              "      <td>224.000000</td>\n",
              "      <td>2.000000</td>\n",
              "      <td>0.000000</td>\n",
              "      <td>0.000000</td>\n",
              "      <td>0.000000e+00</td>\n",
              "      <td>0.000000e+00</td>\n",
              "      <td>0.000000e+00</td>\n",
              "      <td>0.000000e+00</td>\n",
              "      <td>0.000000e+00</td>\n",
              "      <td>0.000000e+00</td>\n",
              "      <td>6.553600e+04</td>\n",
              "      <td>1.600000e+01</td>\n",
              "      <td>16.000000</td>\n",
              "      <td>0.000000</td>\n",
              "      <td>0.000000</td>\n",
              "      <td>0.000000</td>\n",
              "      <td>0.000000</td>\n",
              "      <td>1.000000</td>\n",
              "      <td>0.000000</td>\n",
              "      <td>0.000000e+00</td>\n",
              "      <td>448.000000</td>\n",
              "      <td>0.000000e+00</td>\n",
              "      <td>1.000000</td>\n",
              "      <td>0.000000</td>\n",
              "      <td>0.000000e+00</td>\n",
              "      <td>0.000000e+00</td>\n",
              "      <td>0.000000e+00</td>\n",
              "      <td>0.000000e+00</td>\n",
              "      <td>0.000000e+00</td>\n",
              "      <td>7.000000e+00</td>\n",
              "      <td>1.000000</td>\n",
              "      <td>0.000000</td>\n",
              "      <td>0.000000</td>\n",
              "      <td>0.000000</td>\n",
              "      <td>6.400000e+01</td>\n",
              "      <td>0.000000e+00</td>\n",
              "      <td>6.400000e+01</td>\n",
              "      <td>0.000000e+00</td>\n",
              "      <td>0.000000e+00</td>\n",
              "      <td>0.000000e+00</td>\n",
              "      <td>0.000000</td>\n",
              "      <td>0.000000</td>\n",
              "      <td>0.000000</td>\n",
              "      <td>0.000000</td>\n",
              "      <td>0.000000</td>\n",
              "      <td>0.000000</td>\n",
              "      <td>0.000000</td>\n",
              "      <td>0.000000</td>\n",
              "      <td>0.000000e+00</td>\n",
              "      <td>0.000000e+00</td>\n",
              "      <td>0.000000e+00</td>\n",
              "      <td>0.000000e+00</td>\n",
              "      <td>0.000000</td>\n",
              "      <td>0.000000</td>\n",
              "    </tr>\n",
              "    <tr>\n",
              "      <th>25%</th>\n",
              "      <td>332.000000</td>\n",
              "      <td>224.000000</td>\n",
              "      <td>258.000000</td>\n",
              "      <td>8.000000</td>\n",
              "      <td>0.000000</td>\n",
              "      <td>3.020800e+04</td>\n",
              "      <td>2.457600e+04</td>\n",
              "      <td>0.000000e+00</td>\n",
              "      <td>1.272100e+04</td>\n",
              "      <td>4.096000e+03</td>\n",
              "      <td>2.867200e+04</td>\n",
              "      <td>4.194304e+06</td>\n",
              "      <td>4.096000e+03</td>\n",
              "      <td>512.000000</td>\n",
              "      <td>4.000000</td>\n",
              "      <td>0.000000</td>\n",
              "      <td>0.000000</td>\n",
              "      <td>0.000000</td>\n",
              "      <td>4.000000</td>\n",
              "      <td>0.000000</td>\n",
              "      <td>1.843200e+05</td>\n",
              "      <td>1024.000000</td>\n",
              "      <td>1.065765e+05</td>\n",
              "      <td>2.000000</td>\n",
              "      <td>320.000000</td>\n",
              "      <td>1.048576e+06</td>\n",
              "      <td>4.096000e+03</td>\n",
              "      <td>1.048576e+06</td>\n",
              "      <td>4.096000e+03</td>\n",
              "      <td>0.000000e+00</td>\n",
              "      <td>1.600000e+01</td>\n",
              "      <td>4.000000</td>\n",
              "      <td>4.001088</td>\n",
              "      <td>0.020393</td>\n",
              "      <td>6.417698</td>\n",
              "      <td>1.868800e+04</td>\n",
              "      <td>5.120000e+02</td>\n",
              "      <td>5.734400e+04</td>\n",
              "      <td>3.587200e+04</td>\n",
              "      <td>3.640000e+02</td>\n",
              "      <td>1.085040e+05</td>\n",
              "      <td>3.000000</td>\n",
              "      <td>67.000000</td>\n",
              "      <td>0.000000</td>\n",
              "      <td>0.000000</td>\n",
              "      <td>5.000000</td>\n",
              "      <td>3.458505</td>\n",
              "      <td>2.178748</td>\n",
              "      <td>4.828706</td>\n",
              "      <td>9.560000e+02</td>\n",
              "      <td>4.800000e+01</td>\n",
              "      <td>2.216000e+03</td>\n",
              "      <td>0.000000e+00</td>\n",
              "      <td>13.000000</td>\n",
              "      <td>0.000000</td>\n",
              "    </tr>\n",
              "    <tr>\n",
              "      <th>50%</th>\n",
              "      <td>332.000000</td>\n",
              "      <td>224.000000</td>\n",
              "      <td>258.000000</td>\n",
              "      <td>9.000000</td>\n",
              "      <td>0.000000</td>\n",
              "      <td>1.136640e+05</td>\n",
              "      <td>2.631680e+05</td>\n",
              "      <td>0.000000e+00</td>\n",
              "      <td>5.288300e+04</td>\n",
              "      <td>4.096000e+03</td>\n",
              "      <td>1.146880e+05</td>\n",
              "      <td>4.194304e+06</td>\n",
              "      <td>4.096000e+03</td>\n",
              "      <td>512.000000</td>\n",
              "      <td>5.000000</td>\n",
              "      <td>1.000000</td>\n",
              "      <td>0.000000</td>\n",
              "      <td>0.000000</td>\n",
              "      <td>5.000000</td>\n",
              "      <td>1.000000</td>\n",
              "      <td>5.160960e+05</td>\n",
              "      <td>1024.000000</td>\n",
              "      <td>5.180260e+05</td>\n",
              "      <td>2.000000</td>\n",
              "      <td>33088.000000</td>\n",
              "      <td>1.048576e+06</td>\n",
              "      <td>4.096000e+03</td>\n",
              "      <td>1.048576e+06</td>\n",
              "      <td>4.096000e+03</td>\n",
              "      <td>0.000000e+00</td>\n",
              "      <td>1.600000e+01</td>\n",
              "      <td>5.000000</td>\n",
              "      <td>4.892993</td>\n",
              "      <td>2.545297</td>\n",
              "      <td>6.687587</td>\n",
              "      <td>8.847360e+04</td>\n",
              "      <td>3.584000e+03</td>\n",
              "      <td>2.529280e+05</td>\n",
              "      <td>1.010430e+05</td>\n",
              "      <td>4.764000e+03</td>\n",
              "      <td>3.308080e+05</td>\n",
              "      <td>4.000000</td>\n",
              "      <td>90.000000</td>\n",
              "      <td>0.000000</td>\n",
              "      <td>0.000000</td>\n",
              "      <td>6.000000</td>\n",
              "      <td>3.729824</td>\n",
              "      <td>2.458492</td>\n",
              "      <td>5.317552</td>\n",
              "      <td>2.708154e+03</td>\n",
              "      <td>4.800000e+01</td>\n",
              "      <td>9.640000e+03</td>\n",
              "      <td>7.200000e+01</td>\n",
              "      <td>15.000000</td>\n",
              "      <td>0.000000</td>\n",
              "    </tr>\n",
              "    <tr>\n",
              "      <th>75%</th>\n",
              "      <td>332.000000</td>\n",
              "      <td>224.000000</td>\n",
              "      <td>8226.000000</td>\n",
              "      <td>10.000000</td>\n",
              "      <td>0.000000</td>\n",
              "      <td>1.203200e+05</td>\n",
              "      <td>3.850240e+05</td>\n",
              "      <td>0.000000e+00</td>\n",
              "      <td>6.157800e+04</td>\n",
              "      <td>4.096000e+03</td>\n",
              "      <td>1.269760e+05</td>\n",
              "      <td>1.003356e+08</td>\n",
              "      <td>4.096000e+03</td>\n",
              "      <td>512.000000</td>\n",
              "      <td>5.000000</td>\n",
              "      <td>1.000000</td>\n",
              "      <td>6.000000</td>\n",
              "      <td>0.000000</td>\n",
              "      <td>5.000000</td>\n",
              "      <td>1.000000</td>\n",
              "      <td>5.283840e+05</td>\n",
              "      <td>1024.000000</td>\n",
              "      <td>5.716305e+05</td>\n",
              "      <td>2.000000</td>\n",
              "      <td>33088.000000</td>\n",
              "      <td>1.048576e+06</td>\n",
              "      <td>4.096000e+03</td>\n",
              "      <td>1.048576e+06</td>\n",
              "      <td>4.096000e+03</td>\n",
              "      <td>0.000000e+00</td>\n",
              "      <td>1.600000e+01</td>\n",
              "      <td>5.000000</td>\n",
              "      <td>5.638913</td>\n",
              "      <td>4.087324</td>\n",
              "      <td>7.963092</td>\n",
              "      <td>1.010688e+05</td>\n",
              "      <td>9.728000e+03</td>\n",
              "      <td>3.307520e+05</td>\n",
              "      <td>1.026358e+05</td>\n",
              "      <td>9.400000e+03</td>\n",
              "      <td>3.397160e+05</td>\n",
              "      <td>8.000000</td>\n",
              "      <td>128.000000</td>\n",
              "      <td>1.000000</td>\n",
              "      <td>0.000000</td>\n",
              "      <td>13.000000</td>\n",
              "      <td>4.233051</td>\n",
              "      <td>2.696833</td>\n",
              "      <td>6.502239</td>\n",
              "      <td>6.558429e+03</td>\n",
              "      <td>1.320000e+02</td>\n",
              "      <td>2.378000e+04</td>\n",
              "      <td>7.200000e+01</td>\n",
              "      <td>16.000000</td>\n",
              "      <td>1.000000</td>\n",
              "    </tr>\n",
              "    <tr>\n",
              "      <th>max</th>\n",
              "      <td>34404.000000</td>\n",
              "      <td>352.000000</td>\n",
              "      <td>49551.000000</td>\n",
              "      <td>255.000000</td>\n",
              "      <td>255.000000</td>\n",
              "      <td>1.818587e+09</td>\n",
              "      <td>4.294966e+09</td>\n",
              "      <td>4.294941e+09</td>\n",
              "      <td>1.074484e+09</td>\n",
              "      <td>2.028711e+09</td>\n",
              "      <td>2.684355e+08</td>\n",
              "      <td>1.844674e+19</td>\n",
              "      <td>1.342177e+08</td>\n",
              "      <td>65536.000000</td>\n",
              "      <td>36868.000000</td>\n",
              "      <td>17757.000000</td>\n",
              "      <td>28619.000000</td>\n",
              "      <td>20512.000000</td>\n",
              "      <td>10.000000</td>\n",
              "      <td>47600.000000</td>\n",
              "      <td>1.410036e+09</td>\n",
              "      <td>786432.000000</td>\n",
              "      <td>4.294967e+09</td>\n",
              "      <td>16.000000</td>\n",
              "      <td>49504.000000</td>\n",
              "      <td>3.355443e+07</td>\n",
              "      <td>2.097152e+06</td>\n",
              "      <td>1.363149e+07</td>\n",
              "      <td>2.077323e+09</td>\n",
              "      <td>2.328298e+09</td>\n",
              "      <td>3.402310e+09</td>\n",
              "      <td>40.000000</td>\n",
              "      <td>7.995558</td>\n",
              "      <td>7.995558</td>\n",
              "      <td>7.999994</td>\n",
              "      <td>1.431642e+09</td>\n",
              "      <td>2.900070e+07</td>\n",
              "      <td>4.294885e+09</td>\n",
              "      <td>1.431673e+09</td>\n",
              "      <td>2.900067e+07</td>\n",
              "      <td>4.294885e+09</td>\n",
              "      <td>280.000000</td>\n",
              "      <td>4432.000000</td>\n",
              "      <td>3450.000000</td>\n",
              "      <td>16596.000000</td>\n",
              "      <td>7694.000000</td>\n",
              "      <td>7.999723</td>\n",
              "      <td>7.999723</td>\n",
              "      <td>8.000000</td>\n",
              "      <td>2.415919e+09</td>\n",
              "      <td>2.415919e+09</td>\n",
              "      <td>4.294903e+09</td>\n",
              "      <td>4.294967e+09</td>\n",
              "      <td>26.000000</td>\n",
              "      <td>1.000000</td>\n",
              "    </tr>\n",
              "  </tbody>\n",
              "</table>\n",
              "</div>"
            ],
            "text/plain": [
              "             Machine  ...     legitimate\n",
              "count  138047.000000  ...  138047.000000\n",
              "mean     4259.069274  ...       0.299340\n",
              "std     10880.347245  ...       0.457971\n",
              "min       332.000000  ...       0.000000\n",
              "25%       332.000000  ...       0.000000\n",
              "50%       332.000000  ...       0.000000\n",
              "75%       332.000000  ...       1.000000\n",
              "max     34404.000000  ...       1.000000\n",
              "\n",
              "[8 rows x 55 columns]"
            ]
          },
          "metadata": {
            "tags": []
          },
          "execution_count": 10
        }
      ]
    },
    {
      "cell_type": "code",
      "metadata": {
        "id": "_DmpE2C3Uold",
        "colab": {
          "base_uri": "https://localhost:8080/",
          "height": 419
        },
        "outputId": "36922dec-6ac8-4d85-af84-5e6e6c864734"
      },
      "source": [
        "dataset[[\"ResourcesMaxEntropy\", \"legitimate\"]].groupby(['ResourcesMaxEntropy'], as_index=False).mean().sort_values(by='legitimate', ascending=False)"
      ],
      "execution_count": null,
      "outputs": [
        {
          "output_type": "execute_result",
          "data": {
            "text/html": [
              "<div>\n",
              "<style scoped>\n",
              "    .dataframe tbody tr th:only-of-type {\n",
              "        vertical-align: middle;\n",
              "    }\n",
              "\n",
              "    .dataframe tbody tr th {\n",
              "        vertical-align: top;\n",
              "    }\n",
              "\n",
              "    .dataframe thead th {\n",
              "        text-align: right;\n",
              "    }\n",
              "</style>\n",
              "<table border=\"1\" class=\"dataframe\">\n",
              "  <thead>\n",
              "    <tr style=\"text-align: right;\">\n",
              "      <th></th>\n",
              "      <th>ResourcesMaxEntropy</th>\n",
              "      <th>legitimate</th>\n",
              "    </tr>\n",
              "  </thead>\n",
              "  <tbody>\n",
              "    <tr>\n",
              "      <th>11502</th>\n",
              "      <td>3.582676</td>\n",
              "      <td>1.0</td>\n",
              "    </tr>\n",
              "    <tr>\n",
              "      <th>11644</th>\n",
              "      <td>3.585385</td>\n",
              "      <td>1.0</td>\n",
              "    </tr>\n",
              "    <tr>\n",
              "      <th>11650</th>\n",
              "      <td>3.585599</td>\n",
              "      <td>1.0</td>\n",
              "    </tr>\n",
              "    <tr>\n",
              "      <th>11649</th>\n",
              "      <td>3.585566</td>\n",
              "      <td>1.0</td>\n",
              "    </tr>\n",
              "    <tr>\n",
              "      <th>11648</th>\n",
              "      <td>3.585561</td>\n",
              "      <td>1.0</td>\n",
              "    </tr>\n",
              "    <tr>\n",
              "      <th>...</th>\n",
              "      <td>...</td>\n",
              "      <td>...</td>\n",
              "    </tr>\n",
              "    <tr>\n",
              "      <th>18858</th>\n",
              "      <td>6.336890</td>\n",
              "      <td>0.0</td>\n",
              "    </tr>\n",
              "    <tr>\n",
              "      <th>18857</th>\n",
              "      <td>6.336820</td>\n",
              "      <td>0.0</td>\n",
              "    </tr>\n",
              "    <tr>\n",
              "      <th>14465</th>\n",
              "      <td>4.905173</td>\n",
              "      <td>0.0</td>\n",
              "    </tr>\n",
              "    <tr>\n",
              "      <th>3404</th>\n",
              "      <td>3.499717</td>\n",
              "      <td>0.0</td>\n",
              "    </tr>\n",
              "    <tr>\n",
              "      <th>15858</th>\n",
              "      <td>5.127163</td>\n",
              "      <td>0.0</td>\n",
              "    </tr>\n",
              "  </tbody>\n",
              "</table>\n",
              "<p>23004 rows × 2 columns</p>\n",
              "</div>"
            ],
            "text/plain": [
              "       ResourcesMaxEntropy  legitimate\n",
              "11502             3.582676         1.0\n",
              "11644             3.585385         1.0\n",
              "11650             3.585599         1.0\n",
              "11649             3.585566         1.0\n",
              "11648             3.585561         1.0\n",
              "...                    ...         ...\n",
              "18858             6.336890         0.0\n",
              "18857             6.336820         0.0\n",
              "14465             4.905173         0.0\n",
              "3404              3.499717         0.0\n",
              "15858             5.127163         0.0\n",
              "\n",
              "[23004 rows x 2 columns]"
            ]
          },
          "metadata": {
            "tags": []
          },
          "execution_count": 11
        }
      ]
    },
    {
      "cell_type": "markdown",
      "metadata": {
        "id": "wDpl9gHNVLNz"
      },
      "source": [
        "Steps Covered\r\n",
        "1. Importing a DataFrame\r\n",
        "2. Visualize the Data\r\n",
        "3. Cleanup and Transform the Data\r\n",
        "4. Encode the Data\r\n",
        "5. Split Training and Test Sets\r\n",
        "6. Fine Tune Algorithms\r\n",
        "7. Cross Validate with KFold"
      ]
    },
    {
      "cell_type": "markdown",
      "metadata": {
        "id": "rfmi2jFJUqjL"
      },
      "source": [
        ""
      ]
    },
    {
      "cell_type": "code",
      "metadata": {
        "colab": {
          "base_uri": "https://localhost:8080/"
        },
        "id": "40We4Z5hVaGs",
        "outputId": "54e62dd0-786f-4814-df50-0728281f4f4a"
      },
      "source": [
        "dataset.dtypes"
      ],
      "execution_count": null,
      "outputs": [
        {
          "output_type": "execute_result",
          "data": {
            "text/plain": [
              "Name                            object\n",
              "md5                             object\n",
              "Machine                          int64\n",
              "SizeOfOptionalHeader             int64\n",
              "Characteristics                  int64\n",
              "MajorLinkerVersion               int64\n",
              "MinorLinkerVersion               int64\n",
              "SizeOfCode                       int64\n",
              "SizeOfInitializedData            int64\n",
              "SizeOfUninitializedData          int64\n",
              "AddressOfEntryPoint              int64\n",
              "BaseOfCode                       int64\n",
              "BaseOfData                       int64\n",
              "ImageBase                       uint64\n",
              "SectionAlignment                 int64\n",
              "FileAlignment                    int64\n",
              "MajorOperatingSystemVersion      int64\n",
              "MinorOperatingSystemVersion      int64\n",
              "MajorImageVersion                int64\n",
              "MinorImageVersion                int64\n",
              "MajorSubsystemVersion            int64\n",
              "MinorSubsystemVersion            int64\n",
              "SizeOfImage                      int64\n",
              "SizeOfHeaders                    int64\n",
              "CheckSum                         int64\n",
              "Subsystem                        int64\n",
              "DllCharacteristics               int64\n",
              "SizeOfStackReserve               int64\n",
              "SizeOfStackCommit                int64\n",
              "SizeOfHeapReserve                int64\n",
              "SizeOfHeapCommit                 int64\n",
              "LoaderFlags                      int64\n",
              "NumberOfRvaAndSizes              int64\n",
              "SectionsNb                       int64\n",
              "SectionsMeanEntropy            float64\n",
              "SectionsMinEntropy             float64\n",
              "SectionsMaxEntropy             float64\n",
              "SectionsMeanRawsize            float64\n",
              "SectionsMinRawsize               int64\n",
              "SectionMaxRawsize                int64\n",
              "SectionsMeanVirtualsize        float64\n",
              "SectionsMinVirtualsize           int64\n",
              "SectionMaxVirtualsize            int64\n",
              "ImportsNbDLL                     int64\n",
              "ImportsNb                        int64\n",
              "ImportsNbOrdinal                 int64\n",
              "ExportNb                         int64\n",
              "ResourcesNb                      int64\n",
              "ResourcesMeanEntropy           float64\n",
              "ResourcesMinEntropy            float64\n",
              "ResourcesMaxEntropy            float64\n",
              "ResourcesMeanSize              float64\n",
              "ResourcesMinSize                 int64\n",
              "ResourcesMaxSize                 int64\n",
              "LoadConfigurationSize            int64\n",
              "VersionInformationSize           int64\n",
              "legitimate                       int64\n",
              "dtype: object"
            ]
          },
          "metadata": {
            "tags": []
          },
          "execution_count": 12
        }
      ]
    },
    {
      "cell_type": "code",
      "metadata": {
        "id": "7k34AfzKxqUe"
      },
      "source": [
        "import seaborn as sns\r\n",
        "import matplotlib.pyplot as plt\r\n",
        "%matplotlib inline"
      ],
      "execution_count": null,
      "outputs": []
    },
    {
      "cell_type": "code",
      "metadata": {
        "id": "SWJ_2bY8ftoO",
        "colab": {
          "base_uri": "https://localhost:8080/",
          "height": 242
        },
        "outputId": "899416e2-dbb0-491a-fddf-856857029c9d"
      },
      "source": [
        "g = sns.FacetGrid(dataset, col='legitimate')\r\n",
        "g.map(plt.hist, 'ResourcesMaxEntropy', bins=20)"
      ],
      "execution_count": null,
      "outputs": [
        {
          "output_type": "execute_result",
          "data": {
            "text/plain": [
              "<seaborn.axisgrid.FacetGrid at 0x7f7b24c982e8>"
            ]
          },
          "metadata": {
            "tags": []
          },
          "execution_count": 14
        },
        {
          "output_type": "display_data",
          "data": {
            "image/png": "[encoded data removed]",
            "text/plain": [
              "<Figure size 432x216 with 2 Axes>"
            ]
          },
          "metadata": {
            "tags": [],
            "needs_background": "light"
          }
        }
      ]
    },
    {
      "cell_type": "code",
      "metadata": {
        "id": "VAhcTWRLY-P7",
        "colab": {
          "base_uri": "https://localhost:8080/"
        },
        "outputId": "ce8e0808-3c69-4f5b-bad8-fee2f6403bd7"
      },
      "source": [
        "dataset.groupby(dataset['legitimate']).size()"
      ],
      "execution_count": null,
      "outputs": [
        {
          "output_type": "execute_result",
          "data": {
            "text/plain": [
              "legitimate\n",
              "0    96724\n",
              "1    41323\n",
              "dtype: int64"
            ]
          },
          "metadata": {
            "tags": []
          },
          "execution_count": 15
        }
      ]
    },
    {
      "cell_type": "code",
      "metadata": {
        "id": "0V2iVQL9z273"
      },
      "source": [
        "\r\n",
        "import numpy as np\r\n",
        "\r\n",
        "dataset['split'] = np.random.randn(dataset.shape[0], 1)\r\n",
        "\r\n",
        "msk = np.random.rand(len(dataset)) <= 0.7\r\n",
        "\r\n",
        "train = dataset[msk]\r\n",
        "test = dataset[~msk]\r\n"
      ],
      "execution_count": null,
      "outputs": []
    },
    {
      "cell_type": "code",
      "metadata": {
        "colab": {
          "base_uri": "https://localhost:8080/"
        },
        "id": "SvGskcCvySZt",
        "outputId": "7a0a1ec7-fa34-4442-f8f8-8056132e0c94"
      },
      "source": [
        "X_train = dataset[msk].drop([\"Name\", \"md5\", \"legitimate\"], axis=1)\r\n",
        "Y_train = dataset[msk][\"legitimate\"]\r\n",
        "X_test  = dataset[~msk].drop([\"Name\", \"md5\", \"VersionInformationSize\"], axis=1).copy()\r\n",
        "X_train.shape, Y_train.shape, X_test.shape"
      ],
      "execution_count": null,
      "outputs": [
        {
          "output_type": "execute_result",
          "data": {
            "text/plain": [
              "((96674, 55), (96674,), (41373, 55))"
            ]
          },
          "metadata": {
            "tags": []
          },
          "execution_count": 17
        }
      ]
    },
    {
      "cell_type": "code",
      "metadata": {
        "id": "J3zHM9cr0stk"
      },
      "source": [
        "# machine learning\r\n",
        "from sklearn.linear_model import LogisticRegression\r\n",
        "from sklearn.svm import SVC, LinearSVC\r\n",
        "from sklearn.ensemble import RandomForestClassifier\r\n",
        "from sklearn.neighbors import KNeighborsClassifier\r\n",
        "from sklearn.naive_bayes import GaussianNB\r\n",
        "from sklearn.linear_model import Perceptron\r\n",
        "from sklearn.linear_model import SGDClassifier\r\n",
        "from sklearn.tree import DecisionTreeClassifier"
      ],
      "execution_count": null,
      "outputs": []
    },
    {
      "cell_type": "code",
      "metadata": {
        "colab": {
          "base_uri": "https://localhost:8080/"
        },
        "id": "m7ok0VhnyPMj",
        "outputId": "214ed162-97db-44b1-a06e-d97cfd0d8518"
      },
      "source": [
        "knn = KNeighborsClassifier(n_neighbors = 3)\r\n",
        "knn.fit(X_train, Y_train)\r\n",
        "Y_pred = knn.predict(X_test)\r\n",
        "acc_knn = round(knn.score(X_train, Y_train) * 100, 2)\r\n",
        "acc_knn"
      ],
      "execution_count": null,
      "outputs": [
        {
          "output_type": "execute_result",
          "data": {
            "text/plain": [
              "99.23"
            ]
          },
          "metadata": {
            "tags": []
          },
          "execution_count": 19
        }
      ]
    },
    {
      "cell_type": "code",
      "metadata": {
        "colab": {
          "base_uri": "https://localhost:8080/"
        },
        "id": "z1kS_fwh3_yH",
        "outputId": "67fa5821-4f5f-41c7-f50a-3b71672defc7"
      },
      "source": [
        "logreg = LogisticRegression()\r\n",
        "logreg.fit(X_train, Y_train)\r\n",
        "Y_pred = logreg.predict(X_test)\r\n",
        "acc_log = round(logreg.score(X_train, Y_train) * 100, 2)\r\n",
        "acc_log"
      ],
      "execution_count": null,
      "outputs": [
        {
          "output_type": "stream",
          "text": [
            "/usr/local/lib/python3.6/dist-packages/sklearn/linear_model/_logistic.py:940: ConvergenceWarning: lbfgs failed to converge (status=2):\n",
            "ABNORMAL_TERMINATION_IN_LNSRCH.\n",
            "\n",
            "Increase the number of iterations (max_iter) or scale the data as shown in:\n",
            "    https://scikit-learn.org/stable/modules/preprocessing.html\n",
            "Please also refer to the documentation for alternative solver options:\n",
            "    https://scikit-learn.org/stable/modules/linear_model.html#logistic-regression\n",
            "  extra_warning_msg=_LOGISTIC_SOLVER_CONVERGENCE_MSG)\n"
          ],
          "name": "stderr"
        },
        {
          "output_type": "execute_result",
          "data": {
            "text/plain": [
              "70.04"
            ]
          },
          "metadata": {
            "tags": []
          },
          "execution_count": 20
        }
      ]
    },
    {
      "cell_type": "code",
      "metadata": {
        "colab": {
          "base_uri": "https://localhost:8080/"
        },
        "id": "u8iaxvTZ5JM-",
        "outputId": "ee6643a1-f1b4-486a-8075-04c5eab379d1"
      },
      "source": [
        "gaussian = GaussianNB()\r\n",
        "gaussian.fit(X_train, Y_train)\r\n",
        "Y_pred = gaussian.predict(X_test)\r\n",
        "acc_gaussian = round(gaussian.score(X_train, Y_train) * 100, 2)\r\n",
        "acc_gaussian"
      ],
      "execution_count": null,
      "outputs": [
        {
          "output_type": "execute_result",
          "data": {
            "text/plain": [
              "70.05"
            ]
          },
          "metadata": {
            "tags": []
          },
          "execution_count": 21
        }
      ]
    },
    {
      "cell_type": "code",
      "metadata": {
        "colab": {
          "base_uri": "https://localhost:8080/"
        },
        "id": "3aLdQTZ15RsI",
        "outputId": "6e03bd60-63db-4e0c-a4a9-8cc45142d484"
      },
      "source": [
        "perceptron = Perceptron()\r\n",
        "perceptron.fit(X_train, Y_train)\r\n",
        "Y_pred = perceptron.predict(X_test)\r\n",
        "acc_perceptron = round(perceptron.score(X_train, Y_train) * 100, 2)\r\n",
        "acc_perceptron"
      ],
      "execution_count": null,
      "outputs": [
        {
          "output_type": "execute_result",
          "data": {
            "text/plain": [
              "39.03"
            ]
          },
          "metadata": {
            "tags": []
          },
          "execution_count": 22
        }
      ]
    },
    {
      "cell_type": "code",
      "metadata": {
        "colab": {
          "base_uri": "https://localhost:8080/"
        },
        "id": "stb_1Dfh5ZAu",
        "outputId": "76582e08-6ca8-45af-df78-a55ff6aa64a6"
      },
      "source": [
        "sgd = SGDClassifier()\r\n",
        "sgd.fit(X_train, Y_train)\r\n",
        "Y_pred = sgd.predict(X_test)\r\n",
        "acc_sgd = round(sgd.score(X_train, Y_train) * 100, 2)\r\n",
        "acc_sgd"
      ],
      "execution_count": null,
      "outputs": [
        {
          "output_type": "execute_result",
          "data": {
            "text/plain": [
              "39.02"
            ]
          },
          "metadata": {
            "tags": []
          },
          "execution_count": 23
        }
      ]
    },
    {
      "cell_type": "code",
      "metadata": {
        "colab": {
          "base_uri": "https://localhost:8080/"
        },
        "id": "fHf5eGxg5d7W",
        "outputId": "2fbc27a3-ac7c-4e1b-a676-ed258654e27f"
      },
      "source": [
        "decision_tree = DecisionTreeClassifier()\r\n",
        "decision_tree.fit(X_train, Y_train)\r\n",
        "Y_pred = decision_tree.predict(X_test)\r\n",
        "acc_decision_tree = round(decision_tree.score(X_train, Y_train) * 100, 2)\r\n",
        "acc_decision_tree"
      ],
      "execution_count": null,
      "outputs": [
        {
          "output_type": "execute_result",
          "data": {
            "text/plain": [
              "100.0"
            ]
          },
          "metadata": {
            "tags": []
          },
          "execution_count": 24
        }
      ]
    },
    {
      "cell_type": "code",
      "metadata": {
        "colab": {
          "base_uri": "https://localhost:8080/"
        },
        "id": "F9mR6hYI5jBX",
        "outputId": "ccb5760b-fa68-4e60-de18-7569f310680e"
      },
      "source": [
        "random_forest = RandomForestClassifier(n_estimators=100)\r\n",
        "random_forest.fit(X_train, Y_train)\r\n",
        "Y_pred = random_forest.predict(X_test)\r\n",
        "random_forest.score(X_train, Y_train)\r\n",
        "acc_random_forest = round(random_forest.score(X_train, Y_train) * 100, 2)\r\n",
        "acc_random_forest"
      ],
      "execution_count": null,
      "outputs": [
        {
          "output_type": "execute_result",
          "data": {
            "text/plain": [
              "100.0"
            ]
          },
          "metadata": {
            "tags": []
          },
          "execution_count": 25
        }
      ]
    },
    {
      "cell_type": "code",
      "metadata": {
        "colab": {
          "base_uri": "https://localhost:8080/",
          "height": 266
        },
        "id": "W6tgLnWt2iZI",
        "outputId": "4b7b7c37-799d-4634-8b02-08758a10687e"
      },
      "source": [
        "import pandas as pd\r\n",
        "models = pd.DataFrame({\r\n",
        "    'Model': [ 'KNN', 'Logistic Regression', \r\n",
        "              'Random Forest', 'Naive Bayes', 'Perceptron', \r\n",
        "              'Stochastic Gradient Decent',  \r\n",
        "              'Decision Tree'],\r\n",
        "    'Score': [acc_knn, acc_log, \r\n",
        "              acc_random_forest, acc_gaussian, acc_perceptron, \r\n",
        "              acc_sgd, acc_decision_tree]})\r\n",
        "models.sort_values(by='Score', ascending=False)"
      ],
      "execution_count": null,
      "outputs": [
        {
          "output_type": "execute_result",
          "data": {
            "text/html": [
              "<div>\n",
              "<style scoped>\n",
              "    .dataframe tbody tr th:only-of-type {\n",
              "        vertical-align: middle;\n",
              "    }\n",
              "\n",
              "    .dataframe tbody tr th {\n",
              "        vertical-align: top;\n",
              "    }\n",
              "\n",
              "    .dataframe thead th {\n",
              "        text-align: right;\n",
              "    }\n",
              "</style>\n",
              "<table border=\"1\" class=\"dataframe\">\n",
              "  <thead>\n",
              "    <tr style=\"text-align: right;\">\n",
              "      <th></th>\n",
              "      <th>Model</th>\n",
              "      <th>Score</th>\n",
              "    </tr>\n",
              "  </thead>\n",
              "  <tbody>\n",
              "    <tr>\n",
              "      <th>2</th>\n",
              "      <td>Random Forest</td>\n",
              "      <td>100.00</td>\n",
              "    </tr>\n",
              "    <tr>\n",
              "      <th>6</th>\n",
              "      <td>Decision Tree</td>\n",
              "      <td>100.00</td>\n",
              "    </tr>\n",
              "    <tr>\n",
              "      <th>0</th>\n",
              "      <td>KNN</td>\n",
              "      <td>99.23</td>\n",
              "    </tr>\n",
              "    <tr>\n",
              "      <th>3</th>\n",
              "      <td>Naive Bayes</td>\n",
              "      <td>70.05</td>\n",
              "    </tr>\n",
              "    <tr>\n",
              "      <th>1</th>\n",
              "      <td>Logistic Regression</td>\n",
              "      <td>70.04</td>\n",
              "    </tr>\n",
              "    <tr>\n",
              "      <th>4</th>\n",
              "      <td>Perceptron</td>\n",
              "      <td>39.03</td>\n",
              "    </tr>\n",
              "    <tr>\n",
              "      <th>5</th>\n",
              "      <td>Stochastic Gradient Decent</td>\n",
              "      <td>39.02</td>\n",
              "    </tr>\n",
              "  </tbody>\n",
              "</table>\n",
              "</div>"
            ],
            "text/plain": [
              "                        Model   Score\n",
              "2               Random Forest  100.00\n",
              "6               Decision Tree  100.00\n",
              "0                         KNN   99.23\n",
              "3                 Naive Bayes   70.05\n",
              "1         Logistic Regression   70.04\n",
              "4                  Perceptron   39.03\n",
              "5  Stochastic Gradient Decent   39.02"
            ]
          },
          "metadata": {
            "tags": []
          },
          "execution_count": 27
        }
      ]
    }
  ]
}